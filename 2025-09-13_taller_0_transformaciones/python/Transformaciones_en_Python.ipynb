{
  "cells": [
    {
      "cell_type": "code",
      "execution_count": 4,
      "metadata": {
        "colab": {
          "base_uri": "https://localhost:8080/"
        },
        "id": "bqeL8khfqdvi",
        "outputId": "e5964882-7ab0-4caa-d19b-7a5339e1f5e6"
      },
      "outputs": [
        {
          "name": "stderr",
          "output_type": "stream",
          "text": [
            "C:\\Users\\santi\\AppData\\Local\\Temp\\ipykernel_22936\\3542083529.py:58: DeprecationWarning: Starting with ImageIO v3 the behavior of this function will switch to that of iio.v3.imread. To keep the current behavior (and make this warning disappear) use `import imageio.v2 as imageio` or call `imageio.v2.imread` directly.\n",
            "  frames.append(imageio.imread(buf))\n"
          ]
        },
        {
          "name": "stdout",
          "output_type": "stream",
          "text": [
            "GIF guardado como animacion_transformaciones.gif\n"
          ]
        }
      ],
      "source": [
        "import numpy as np\n",
        "import matplotlib.pyplot as plt\n",
        "import imageio\n",
        "from io import BytesIO\n",
        "\n",
        "def matriz_traslacion(tx, ty):\n",
        "    return np.array([[1, 0, tx],\n",
        "                     [0, 1, ty],\n",
        "                     [0, 0, 1]])\n",
        "\n",
        "def matriz_rotacion(theta):\n",
        "    return np.array([[np.cos(theta), -np.sin(theta), 0],\n",
        "                     [np.sin(theta),  np.cos(theta), 0],\n",
        "                     [0, 0, 1]])\n",
        "\n",
        "def matriz_escala(sx, sy):\n",
        "    return np.array([[sx, 0, 0],\n",
        "                     [0, sy, 0],\n",
        "                     [0, 0, 1]])\n",
        "\n",
        "figura = np.array([\n",
        "    [ -1,  -1,  1],\n",
        "    [  1,  -1,  1],\n",
        "    [  1,   1,  1],\n",
        "    [ -1,   1,  1],\n",
        "    [ -1,  -1,  1] \n",
        "]).T  \n",
        "\n",
        "frames = []\n",
        "n_frames = 60\n",
        "\n",
        "for t in range(n_frames):\n",
        "    tx = 2 * np.sin(2 * np.pi * t / n_frames)      \n",
        "    ty = 2 * np.cos(2 * np.pi * t / n_frames)      \n",
        "    theta = 2 * np.pi * t / n_frames               \n",
        "    s = 1 + 0.5 * np.sin(2 * np.pi * t / n_frames) \n",
        "\n",
        "    \n",
        "    T = matriz_traslacion(tx, ty) @ matriz_rotacion(theta) @ matriz_escala(s, s)\n",
        "\n",
        "    \n",
        "    figura_transf = T @ figura\n",
        "\n",
        " \n",
        "    plt.figure(figsize=(5,5))\n",
        "    plt.plot(figura_transf[0], figura_transf[1], 'b-o', label='Transformed Square')\n",
        "    plt.xlim(-5,5)\n",
        "    plt.ylim(-5,5)\n",
        "    plt.title(f'Frame {t+1}')\n",
        "    plt.grid()\n",
        "    plt.legend()\n",
        "    plt.tight_layout()\n",
        "\n",
        " \n",
        "    buf = BytesIO()\n",
        "    plt.savefig(buf, format='png')\n",
        "    buf.seek(0)\n",
        "    frames.append(imageio.imread(buf))\n",
        "    plt.close()\n",
        "\n",
        "\n",
        "imageio.mimsave('animacion_transformaciones.gif', frames, duration=0.05)\n",
        "print(\"GIF guardado como animacion_transformaciones.gif\")"
      ]
    }
  ],
  "metadata": {
    "colab": {
      "provenance": []
    },
    "kernelspec": {
      "display_name": "Python 3",
      "language": "python",
      "name": "python3"
    },
    "language_info": {
      "codemirror_mode": {
        "name": "ipython",
        "version": 3
      },
      "file_extension": ".py",
      "mimetype": "text/x-python",
      "name": "python",
      "nbconvert_exporter": "python",
      "pygments_lexer": "ipython3",
      "version": "3.12.6"
    }
  },
  "nbformat": 4,
  "nbformat_minor": 0
}
